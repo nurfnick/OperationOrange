{
  "nbformat": 4,
  "nbformat_minor": 0,
  "metadata": {
    "colab": {
      "provenance": [],
      "authorship_tag": "ABX9TyPf7n+eqMI17gH/iGNWWwll",
      "include_colab_link": true
    },
    "kernelspec": {
      "name": "python3",
      "display_name": "Python 3"
    },
    "language_info": {
      "name": "python"
    }
  },
  "cells": [
    {
      "cell_type": "markdown",
      "metadata": {
        "id": "view-in-github",
        "colab_type": "text"
      },
      "source": [
        "<a href=\"https://colab.research.google.com/github/nurfnick/OperationOrange/blob/main/ImageLoading.ipynb\" target=\"_parent\"><img src=\"https://colab.research.google.com/assets/colab-badge.svg\" alt=\"Open In Colab\"/></a>"
      ]
    },
    {
      "cell_type": "markdown",
      "source": [
        "# Operation Orange\n",
        "\n"
      ],
      "metadata": {
        "id": "9hI3dRYsF-hc"
      }
    },
    {
      "cell_type": "markdown",
      "source": [
        "## Picture dealing with\n"
      ],
      "metadata": {
        "id": "TXpAN5AMGD7g"
      }
    },
    {
      "cell_type": "code",
      "execution_count": 6,
      "metadata": {
        "colab": {
          "base_uri": "https://localhost:8080/",
          "height": 55
        },
        "id": "m7ZCjeLwFXdG",
        "outputId": "16449f16-6bf5-433c-d133-b109824b98c9"
      },
      "outputs": [
        {
          "output_type": "execute_result",
          "data": {
            "text/plain": [
              "'RGB'"
            ],
            "application/vnd.google.colaboratory.intrinsic+json": {
              "type": "string"
            }
          },
          "metadata": {},
          "execution_count": 6
        }
      ],
      "source": [
        "from PIL import Image\n",
        "import numpy as np\n",
        "\n",
        "image = Image.open('eleanor.jpg')\n",
        "image.mode"
      ]
    },
    {
      "cell_type": "code",
      "source": [
        "picArray = np.asarray(image)\n",
        "\n",
        "picArray.shape"
      ],
      "metadata": {
        "colab": {
          "base_uri": "https://localhost:8080/"
        },
        "id": "H2r717mBGbGC",
        "outputId": "b7edf7ec-af1d-448b-8bfc-dee304b4a679"
      },
      "execution_count": 9,
      "outputs": [
        {
          "output_type": "execute_result",
          "data": {
            "text/plain": [
              "(2048, 1536, 3)"
            ]
          },
          "metadata": {},
          "execution_count": 9
        }
      ]
    }
  ]
}